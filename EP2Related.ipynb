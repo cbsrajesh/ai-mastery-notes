{
 "cells": [
  {
   "cell_type": "markdown",
   "id": "02e87a03-bdb1-46bb-85fd-d2fcbb94c69f",
   "metadata": {},
   "source": [
    "# Set\n",
    "\n",
    "#### Think: A collection of unique plants (unordered, no repeats)\n",
    "\n",
    "##### my_set = {1, 2, 3, 2}\n",
    "\n",
    "#### Key Features:\n",
    "##### Unordered → No guarantee of order\n",
    "##### Mutable → You can add or remove items\n",
    "##### No duplicates → Only keeps unique values\n",
    "##### Not indexable → You can’t do my_set[0]\n",
    "##### ➕ Use it when: You need to eliminate duplicates or perform set theory operations (union, intersection, etc.)"
   ]
  },
  {
   "cell_type": "code",
   "execution_count": 1,
   "id": "58665675-cde3-4e21-a253-818263cfc1e1",
   "metadata": {
    "scrolled": true
   },
   "outputs": [
    {
     "name": "stdout",
     "output_type": "stream",
     "text": [
      "{1, 2, 3}\n"
     ]
    }
   ],
   "source": [
    "#Defining a set\n",
    "A = {1, 2, 3}\n",
    "B = {3, 4, 5}\n",
    "print(A)"
   ]
  },
  {
   "cell_type": "code",
   "execution_count": 2,
   "id": "31b2db0f-7ae7-4b94-bf2b-59246fce57af",
   "metadata": {},
   "outputs": [
    {
     "name": "stdout",
     "output_type": "stream",
     "text": [
      "{1, 2, 3}\n"
     ]
    }
   ],
   "source": [
    "C = {1, 2, 2, 3, 3}\n",
    "print(C)"
   ]
  },
  {
   "cell_type": "code",
   "execution_count": 3,
   "id": "0f0114e3-69ba-4a98-800d-1acb8a00e1d7",
   "metadata": {},
   "outputs": [
    {
     "name": "stdout",
     "output_type": "stream",
     "text": [
      "{1, 2, 3, 4, 5}\n"
     ]
    }
   ],
   "source": [
    "#Union: A U B\n",
    "print(A | B)"
   ]
  },
  {
   "cell_type": "code",
   "execution_count": 4,
   "id": "d1e3f1d5-3bea-4078-936a-f8f385602137",
   "metadata": {},
   "outputs": [
    {
     "name": "stdout",
     "output_type": "stream",
     "text": [
      "{3}\n"
     ]
    }
   ],
   "source": [
    "# Intersection: A ∩ B\n",
    "print(A & B)"
   ]
  },
  {
   "cell_type": "code",
   "execution_count": 5,
   "id": "b07d2358-0826-4901-9aec-d2dc20c4d5b7",
   "metadata": {},
   "outputs": [
    {
     "name": "stdout",
     "output_type": "stream",
     "text": [
      "A= {1, 2, 3}\n",
      "B= {3, 4, 5}\n",
      "A-B= {1, 2}\n",
      "B-A= {4, 5}\n"
     ]
    }
   ],
   "source": [
    "#Difference: A - B | Elements in A but not in B.\n",
    "print(\"A=\",A)\n",
    "print(\"B=\",B)\n",
    "print(\"A-B=\",A-B)\n",
    "print(\"B-A=\", B-A)"
   ]
  },
  {
   "cell_type": "code",
   "execution_count": 6,
   "id": "5fea2f55-4a90-40dc-bfbe-e9990021afb6",
   "metadata": {},
   "outputs": [
    {
     "name": "stdout",
     "output_type": "stream",
     "text": [
      "{1, 2, 4, 5}\n"
     ]
    }
   ],
   "source": [
    "# Symmetric Difference: A △ B | Elements in either A or B, but not both.\n",
    "print(A ^ B)"
   ]
  },
  {
   "cell_type": "code",
   "execution_count": 7,
   "id": "49d057fc-2f24-4da3-bc81-a7ec1dac95e6",
   "metadata": {},
   "outputs": [
    {
     "name": "stdout",
     "output_type": "stream",
     "text": [
      "1\n",
      "2\n",
      "3\n"
     ]
    }
   ],
   "source": [
    "for item in A:\n",
    "    print(item)"
   ]
  },
  {
   "cell_type": "code",
   "execution_count": 8,
   "id": "9921536f-c708-4d46-b41b-37dfe25828c8",
   "metadata": {},
   "outputs": [
    {
     "name": "stdout",
     "output_type": "stream",
     "text": [
      "3\n",
      "4\n",
      "5\n"
     ]
    }
   ],
   "source": [
    "for item2 in B:\n",
    "    print(item2)"
   ]
  },
  {
   "cell_type": "code",
   "execution_count": 9,
   "id": "9cb8e048-1ae1-432a-a252-5f68845ef10f",
   "metadata": {},
   "outputs": [
    {
     "data": {
      "text/plain": [
       "5"
      ]
     },
     "execution_count": 9,
     "metadata": {},
     "output_type": "execute_result"
    }
   ],
   "source": [
    "item\n",
    "item2"
   ]
  },
  {
   "cell_type": "code",
   "execution_count": 10,
   "id": "c49ee0a1-c36a-43f0-a938-0ba7c4b124c6",
   "metadata": {},
   "outputs": [
    {
     "data": {
      "text/plain": [
       "3"
      ]
     },
     "execution_count": 10,
     "metadata": {},
     "output_type": "execute_result"
    }
   ],
   "source": [
    "item"
   ]
  },
  {
   "cell_type": "code",
   "execution_count": 11,
   "id": "e740111b-dfdf-4838-8f70-9995a7f6f416",
   "metadata": {},
   "outputs": [
    {
     "data": {
      "text/plain": [
       "4"
      ]
     },
     "execution_count": 11,
     "metadata": {},
     "output_type": "execute_result"
    }
   ],
   "source": [
    "item2-1"
   ]
  },
  {
   "cell_type": "code",
   "execution_count": 12,
   "id": "8b791962-0c7b-4f07-98e5-5c59aa562963",
   "metadata": {},
   "outputs": [],
   "source": [
    "## In case of item and item2 above- whats happening here ?\n",
    "### This is a **for** loop in Python used to iterate over each element in the set A.\n",
    "#### A = {1, 2, 3} defines a set with 3 unique elements.\n",
    "#### for item in A: starts a loop that goes through the set one element at a time.\n",
    "##### print(item) prints each element during each loop cycle.\n",
    "\n",
    "###  **Behind the Scenes Python converts the set into an iterator—a tool that knows how to visit each item, one by one.**\n",
    "# So what actually happens is: Python picks the first item in A (could be 1, 2, or 3 — sets are unordered).\n",
    "# It assigns it to the variable item. Executes print(item). Repeats this until every element in the set is printed once."
   ]
  },
  {
   "cell_type": "code",
   "execution_count": 13,
   "id": "65d7e23e-5b8a-4dc6-a081-0df8e030acfb",
   "metadata": {},
   "outputs": [
    {
     "name": "stdout",
     "output_type": "stream",
     "text": [
      "True\n",
      "False\n"
     ]
    }
   ],
   "source": [
    "## Set Membership \n",
    "print(2 in A)    # True\n",
    "print(6 in A)    # False"
   ]
  },
  {
   "cell_type": "code",
   "execution_count": 14,
   "id": "8c90f12c-65b7-4680-8095-5aaa44d41522",
   "metadata": {},
   "outputs": [
    {
     "name": "stdout",
     "output_type": "stream",
     "text": [
      "{'banana', 'apple', 'cherry'}\n"
     ]
    }
   ],
   "source": [
    "# Add an item\n",
    "my_set = {'apple', 'banana'}\n",
    "my_set.add('cherry')\n",
    "print(my_set)\n",
    "# Output: {'apple', 'banana', 'cherry'}"
   ]
  },
  {
   "cell_type": "code",
   "execution_count": 15,
   "id": "e0295fd7-b3f6-4cdc-bf9a-5e1ec201dec9",
   "metadata": {},
   "outputs": [
    {
     "name": "stdout",
     "output_type": "stream",
     "text": [
      "{'apple', 'cherry'}\n"
     ]
    }
   ],
   "source": [
    "# Remove an item (with .remove() or .discard())\n",
    "\n",
    "my_set.remove('banana')  # This will remove 'banana'\n",
    "# my_set.remove('mango')  # ❌ Error if item doesn't exist\n",
    "print(my_set)"
   ]
  },
  {
   "cell_type": "code",
   "execution_count": 16,
   "id": "4705f9c8-a697-470b-a64a-a8553ae083f9",
   "metadata": {},
   "outputs": [
    {
     "name": "stdout",
     "output_type": "stream",
     "text": [
      "{'apple', 'cherry'}\n"
     ]
    }
   ],
   "source": [
    "# OR use discard() to avoid errors if the item isn’t there:\n",
    "my_set.discard('mango')  # No error even if 'mango' isn’t in the set\n",
    "print(my_set)"
   ]
  },
  {
   "cell_type": "code",
   "execution_count": 17,
   "id": "be2a7157-4c95-40cd-8912-16d501158888",
   "metadata": {},
   "outputs": [
    {
     "name": "stdout",
     "output_type": "stream",
     "text": [
      "{'apple', 'cherry'}\n"
     ]
    }
   ],
   "source": [
    "#Pop a randon item\n",
    "fruits = {'apple', 'banana', 'cherry'}\n",
    "fruits.pop()\n",
    "print(fruits)\n",
    "# Output: Set with one random item removed"
   ]
  },
  {
   "cell_type": "code",
   "execution_count": 18,
   "id": "cff114fe-b4c3-4a27-b6d3-5efc6142cfd7",
   "metadata": {},
   "outputs": [
    {
     "name": "stdout",
     "output_type": "stream",
     "text": [
      "set()\n"
     ]
    }
   ],
   "source": [
    "# Clear all items\n",
    "my_set.clear()\n",
    "print(my_set)\n",
    "# Output: set()"
   ]
  },
  {
   "cell_type": "code",
   "execution_count": 19,
   "id": "bc56b948-ad0f-47a5-9fb1-c652d96cb983",
   "metadata": {},
   "outputs": [
    {
     "name": "stdout",
     "output_type": "stream",
     "text": [
      "{'banana', 'apple', 'cherry'}\n"
     ]
    }
   ],
   "source": [
    "# Update a set with another set (or list)\n",
    "\n",
    "a = {'apple'}\n",
    "b = ['banana', 'cherry']  #Notice this is a list\n",
    "a.update(b)\n",
    "print(a)\n",
    "# Output: {'apple', 'banana', 'cherry'}"
   ]
  },
  {
   "cell_type": "code",
   "execution_count": 20,
   "id": "73f47186-d647-4ef9-84fd-75774a6b242d",
   "metadata": {},
   "outputs": [
    {
     "name": "stdout",
     "output_type": "stream",
     "text": [
      "[(1, 3), (1, 4), (2, 3), (2, 4)]\n"
     ]
    }
   ],
   "source": [
    "##  Cartesian Product. While Python sets don’t directly support Cartesian products, we can use *itertools.product*:\n",
    "\n",
    "from itertools import product\n",
    "\n",
    "A = {1, 2}\n",
    "B = {3, 4}\n",
    "cartesian = list(product(A, B))\n",
    "print(cartesian)"
   ]
  },
  {
   "cell_type": "code",
   "execution_count": 21,
   "id": "f497b00f-9577-4ccc-b86f-a1d16090bdca",
   "metadata": {},
   "outputs": [],
   "source": [
    "## The above mentioned code is computing the Cartesian Product of two sets, A and B, using Python's itertools module.\n",
    "\n",
    "### Step 1: Importing the Tool- You're importing the product() function from the built-in Python module itertools.\n",
    "### itertools.product() returns all possible ordered pairs formed by picking one element from each set\n",
    "\n",
    "### Step 2: Defining the Sets | Set A contains {1, 2} | Set B contains {3, 4}\n",
    "\n",
    "### Step 3: Computing the Cartesian Product: product(A, B) generates: (1, 3), (1, 4), (2, 3), (2, 4)\n",
    "### These are all the combinations where: The first item is from A | The second item is from B\n",
    "\n",
    "### Wrapping it in list(...) converts the result into a standard list."
   ]
  },
  {
   "cell_type": "markdown",
   "id": "a101199c-baab-4dfb-9331-0e4418724738",
   "metadata": {},
   "source": [
    "# Fun with Lists\n",
    "##### Other Notes:List → Think: To-do list (ordered, editable, allows duplicates)\n",
    "##### Ordered → Keeps the order you put things in\n",
    "##### Mutable → You can change, add, or remove items\n",
    "##### Allows duplicates → Can contain the same value multiple times\n",
    "##### Indexable → You can do my_list[0] and get 1"
   ]
  },
  {
   "cell_type": "code",
   "execution_count": 22,
   "id": "6fba8f95-9540-478a-bfd8-fa68fa6fa3d8",
   "metadata": {},
   "outputs": [
    {
     "name": "stdout",
     "output_type": "stream",
     "text": [
      "[1, 2, 3, 2]\n"
     ]
    }
   ],
   "source": [
    "my_list = [1, 2, 3, 2]\n",
    "print (my_list)"
   ]
  },
  {
   "cell_type": "code",
   "execution_count": 23,
   "id": "e515278e-75be-4984-b8af-fd501441c299",
   "metadata": {},
   "outputs": [
    {
     "data": {
      "text/plain": [
       "1"
      ]
     },
     "execution_count": 23,
     "metadata": {},
     "output_type": "execute_result"
    }
   ],
   "source": [
    "my_list[0]"
   ]
  },
  {
   "cell_type": "code",
   "execution_count": 24,
   "id": "66d621d5-a793-46b3-b3bf-b440bbe335cd",
   "metadata": {},
   "outputs": [
    {
     "data": {
      "text/plain": [
       "(1, 4)"
      ]
     },
     "execution_count": 24,
     "metadata": {},
     "output_type": "execute_result"
    }
   ],
   "source": [
    "cartesian[1]"
   ]
  },
  {
   "cell_type": "code",
   "execution_count": 25,
   "id": "3fe0089d-0309-45c0-8bcd-2518837d830c",
   "metadata": {},
   "outputs": [
    {
     "data": {
      "text/plain": [
       "'banana'"
      ]
     },
     "execution_count": 25,
     "metadata": {},
     "output_type": "execute_result"
    }
   ],
   "source": [
    "my_fruits = ['apple', 'banana', 'cherry']\n",
    "my_fruits[1]"
   ]
  },
  {
   "cell_type": "code",
   "execution_count": 26,
   "id": "cb3f5111-9cf1-457a-8891-d87c1df3a67b",
   "metadata": {},
   "outputs": [
    {
     "data": {
      "text/plain": [
       "['apple', 'banana', 'cherry']"
      ]
     },
     "execution_count": 26,
     "metadata": {},
     "output_type": "execute_result"
    }
   ],
   "source": [
    "my_fruits"
   ]
  },
  {
   "cell_type": "code",
   "execution_count": 27,
   "id": "19e913c5-668f-4835-96f6-9e5011a6eb65",
   "metadata": {},
   "outputs": [
    {
     "data": {
      "text/plain": [
       "['apple', 'strawberry', 'cherry']"
      ]
     },
     "execution_count": 27,
     "metadata": {},
     "output_type": "execute_result"
    }
   ],
   "source": [
    "my_fruits [1]= \"strawberry\" # change banana to strawberry # Remember lists can be changed!\n",
    "my_fruits"
   ]
  },
  {
   "cell_type": "code",
   "execution_count": 28,
   "id": "f7f45bb6-fe0d-47a8-a3c2-0ce9e2c55ac2",
   "metadata": {},
   "outputs": [
    {
     "name": "stdout",
     "output_type": "stream",
     "text": [
      "['apple', 'strawberry', 'cherry', 'Blackberry']\n"
     ]
    }
   ],
   "source": [
    "# Add to the end of the list\n",
    "my_fruits.append('Blackberry')\n",
    "print(my_fruits)"
   ]
  },
  {
   "cell_type": "code",
   "execution_count": 29,
   "id": "5b6cffbc-0917-44ea-a62a-2fce3f33b57e",
   "metadata": {},
   "outputs": [
    {
     "name": "stdout",
     "output_type": "stream",
     "text": [
      "['apple', 'Musk-Melon', 'strawberry', 'cherry', 'Blackberry']\n"
     ]
    }
   ],
   "source": [
    "# Add at a specific position\n",
    "my_fruits.insert(1, 'Musk-Melon')  # Insert at position 1\n",
    "print(my_fruits)"
   ]
  },
  {
   "cell_type": "code",
   "execution_count": 30,
   "id": "4a6e6013-e829-4dde-9461-0808cb340d80",
   "metadata": {},
   "outputs": [
    {
     "name": "stdout",
     "output_type": "stream",
     "text": [
      "['apple', 'Musk-Melon', 'strawberry', 'cherry', 'Blackberry', 'Dragon Fruit', 'Watermelon', 'Avacado']\n"
     ]
    }
   ],
   "source": [
    "# Add multiple items at once\n",
    "my_fruits.extend(['Dragon Fruit', 'Watermelon', 'Avacado'])\n",
    "print(my_fruits)"
   ]
  },
  {
   "cell_type": "code",
   "execution_count": 31,
   "id": "bbde75dc-6e02-4fe9-998e-787bb14d64be",
   "metadata": {},
   "outputs": [],
   "source": [
    "#Think of append() as adding one thing, extend() as adding a bunch of things, and insert() as being picky about where you put it."
   ]
  },
  {
   "cell_type": "code",
   "execution_count": 32,
   "id": "58ea55ed-8a10-4d4e-b322-b02827ac53dd",
   "metadata": {},
   "outputs": [],
   "source": [
    "# Practice"
   ]
  },
  {
   "cell_type": "code",
   "execution_count": 33,
   "id": "7c692d44-c11e-465b-bad7-4df813f0ee5b",
   "metadata": {},
   "outputs": [
    {
     "name": "stdout",
     "output_type": "stream",
     "text": [
      "Grocery List= ['milk', 'butter', 'bread', 'eggs', 'apples', 'bananas']\n",
      "Fruits to buy next week= ['apple', 'Musk-Melon', 'strawberry', 'cherry', 'Blackberry', 'Dragon Fruit', 'Watermelon', 'Avacado']\n"
     ]
    }
   ],
   "source": [
    "grocery = ['milk', 'bread']\n",
    "\n",
    "# 1. Add 'eggs' to the end\n",
    "grocery.append('eggs')\n",
    "\n",
    "# 2. Insert 'butter' at position 1\n",
    "grocery.insert(1,'butter')\n",
    "\n",
    "# 3. Add 'apples' and 'bananas' at the end\n",
    "grocery.extend(['apples', 'bananas'])\n",
    "\n",
    "# 4. Print the result\n",
    "print(\"Grocery List=\", grocery)\n",
    "print(\"Fruits to buy next week=\", my_fruits)"
   ]
  },
  {
   "cell_type": "markdown",
   "id": "fdf816fc-c8f0-4ad6-8760-4685628cf372",
   "metadata": {},
   "source": [
    "# Tuples\n",
    "\n",
    "### Key Features:\n",
    "##### Ordered → Just like lists\n",
    "##### Immutable → Cannot be changed after creation\n",
    "##### Allows duplicates\n",
    "##### Indexable"
   ]
  },
  {
   "cell_type": "markdown",
   "id": "cf5c2516-ba90-4456-926a-348f1d912fed",
   "metadata": {},
   "source": [
    "##### ➕ Use it when: You want to represent something fixed or structured, like (latitude, longitude), or (name, age)."
   ]
  },
  {
   "cell_type": "code",
   "execution_count": 34,
   "id": "f8d42848-1ccf-46bd-8dd1-023767eaeee3",
   "metadata": {},
   "outputs": [],
   "source": [
    "# Tuple\n",
    "location = (37.77, -122.42)"
   ]
  },
  {
   "cell_type": "code",
   "execution_count": 35,
   "id": "aec11310-3bc5-417f-a3a0-e421733aabb0",
   "metadata": {},
   "outputs": [
    {
     "name": "stdout",
     "output_type": "stream",
     "text": [
      "(37.77, -122.42)\n"
     ]
    }
   ],
   "source": [
    "print(location)"
   ]
  },
  {
   "cell_type": "code",
   "execution_count": 36,
   "id": "77faf947-b31a-4444-bf00-5f5c59c94ffd",
   "metadata": {},
   "outputs": [
    {
     "name": "stdout",
     "output_type": "stream",
     "text": [
      "apple\n",
      "cherry\n"
     ]
    }
   ],
   "source": [
    "# Create and Access Tuple Elements\n",
    "fruit = ('apple', 'banana', 'cherry')\n",
    "print(fruit[0])    # Output: 'apple'\n",
    "print(fruit[-1])   # Output: 'cherry'"
   ]
  },
  {
   "cell_type": "code",
   "execution_count": 37,
   "id": "437c6bf8-66ab-4ddf-95ca-c46a31e159de",
   "metadata": {},
   "outputs": [],
   "source": [
    "# ❌ Try Modifying a Tuple (and See What Happens)"
   ]
  },
  {
   "cell_type": "code",
   "execution_count": 38,
   "id": "909df6a1-736b-4c09-9001-8dd6b99f5d77",
   "metadata": {},
   "outputs": [],
   "source": [
    "fruit = ('apple', 'banana', 'cherry')\n",
    "# fruit[1] = 'orange'  # 🚫 This will raise an error!"
   ]
  },
  {
   "cell_type": "code",
   "execution_count": 39,
   "id": "fe5b009a-dd6b-4eb9-8866-956f4cbeba39",
   "metadata": {},
   "outputs": [
    {
     "name": "stdout",
     "output_type": "stream",
     "text": [
      "('apple', 'orange', 'cherry')\n"
     ]
    }
   ],
   "source": [
    "#🔄 Convert Tuple to List to Modify It\n",
    "\n",
    "fruit = ('apple', 'banana', 'cherry')\n",
    "fruit_list = list(fruit) # Convert Tuple to a List \n",
    "fruit_list[1] = 'orange'\n",
    "fruit = tuple(fruit_list)\n",
    "print(fruit)"
   ]
  },
  {
   "cell_type": "code",
   "execution_count": 40,
   "id": "4ab26639-d457-482b-998a-9810703c77f2",
   "metadata": {},
   "outputs": [
    {
     "name": "stdout",
     "output_type": "stream",
     "text": [
      "('a', 'b', 'c')\n"
     ]
    }
   ],
   "source": [
    "# ➕ Add Items to a Tuple (Hacky Way)\n",
    "t1 = ('a', 'b')\n",
    "t2 = ('c',) # Note: ('c') is not a tuple — it must have a comma: ('c',)\n",
    "combined = t1 + t2\n",
    "print(combined)\n",
    "# Output: ('a', 'b', 'c')"
   ]
  },
  {
   "cell_type": "code",
   "execution_count": 41,
   "id": "64a030cb-9399-43e2-903c-4d08693a6960",
   "metadata": {},
   "outputs": [
    {
     "name": "stdout",
     "output_type": "stream",
     "text": [
      "('Rajesh', 43, True)\n"
     ]
    }
   ],
   "source": [
    "#  Tuple with Different Data Types\n",
    "mixed = ('Rajesh', 43, True)\n",
    "print(mixed)"
   ]
  },
  {
   "cell_type": "code",
   "execution_count": 42,
   "id": "9f79441e-7d80-471d-a29e-e2b0c2b127d2",
   "metadata": {},
   "outputs": [
    {
     "name": "stdout",
     "output_type": "stream",
     "text": [
      "red\n",
      "green\n",
      "blue\n"
     ]
    }
   ],
   "source": [
    "# Loop Through a Tuple\n",
    "colors = ('red', 'green', 'blue')\n",
    "for color in colors:\n",
    "    print(color)\n",
    "    \n"
   ]
  },
  {
   "cell_type": "code",
   "execution_count": 43,
   "id": "2a40a7ed-76aa-4408-9944-26a74d4acb6e",
   "metadata": {},
   "outputs": [
    {
     "name": "stdout",
     "output_type": "stream",
     "text": [
      "blue\n"
     ]
    }
   ],
   "source": [
    "print(color) # only the last value gets printed"
   ]
  },
  {
   "cell_type": "code",
   "execution_count": 44,
   "id": "85602686-80d0-41b9-a8b7-a88dc182052b",
   "metadata": {},
   "outputs": [
    {
     "name": "stdout",
     "output_type": "stream",
     "text": [
      "('python', 'math', 'coffee')\n"
     ]
    }
   ],
   "source": [
    "# Tuple Challenge:\n",
    "# Try writing code that: \n",
    "### Creates a tuple called favs with 'python', 'math', 'chai'\n",
    "### Converts it into a list\n",
    "### Replaces 'chai' with 'coffee'\n",
    "### Converts it back into a tuple\n",
    "### Prints the final result\n",
    "\n",
    "favs = ('python', 'math', 'chai')\n",
    "favs_list =list(favs)\n",
    "favs_list[2]='coffee'\n",
    "favs= tuple(favs_list)\n",
    "print(favs)"
   ]
  },
  {
   "cell_type": "markdown",
   "id": "667fa2bd-daed-4c7b-ba6b-96241c41e40c",
   "metadata": {},
   "source": [
    "# Summary (per ChatGPT):"
   ]
  },
  {
   "attachments": {
    "4941baf3-d533-4dcf-a0f5-6b3e42ffd23e.png": {
     "image/png": "[encoded data removed]"
    }
   },
   "cell_type": "markdown",
   "id": "7def0e01-354f-45d0-8b9c-7d2c10cd56a5",
   "metadata": {},
   "source": [
    "![image.png](attachment:4941baf3-d533-4dcf-a0f5-6b3e42ffd23e.png)"
   ]
  },
  {
   "attachments": {
    "450cec45-d78a-4710-8c38-bb9ac1b42ef0.png": {
     "image/png": "[encoded data removed]"
    }
   },
   "cell_type": "markdown",
   "id": "7f72b5d5-5d77-4b08-bb23-90ad5ca5ccde",
   "metadata": {},
   "source": [
    "![image.png](attachment:450cec45-d78a-4710-8c38-bb9ac1b42ef0.png)"
   ]
  },
  {
   "attachments": {
    "348284c7-a32e-42db-99d4-9b31bc0989fa.png": {
     "image/png": "[encoded data removed]"
    }
   },
   "cell_type": "markdown",
   "id": "c3dab73e-24c8-483a-adbc-7ba43faec4b3",
   "metadata": {},
   "source": [
    "##  Cartesian Product. While Python sets don’t directly support Cartesian products, we can use *itertools.product*:\n",
    "\n",
    "\"from itertools import product\"\n",
    "\n",
    "\n",
    "![image.png](attachment:348284c7-a32e-42db-99d4-9b31bc0989fa.png)"
   ]
  }
 ],
 "metadata": {
  "kernelspec": {
   "display_name": "Python [conda env:base] *",
   "language": "python",
   "name": "conda-base-py"
  },
  "language_info": {
   "codemirror_mode": {
    "name": "ipython",
    "version": 3
   },
   "file_extension": ".py",
   "mimetype": "text/x-python",
   "name": "python",
   "nbconvert_exporter": "python",
   "pygments_lexer": "ipython3",
   "version": "3.12.7"
  }
 },
 "nbformat": 4,
 "nbformat_minor": 5
}
