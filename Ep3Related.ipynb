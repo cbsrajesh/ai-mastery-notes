{
 "cells": [
  {
   "cell_type": "markdown",
   "id": "63daa607",
   "metadata": {},
   "source": [
    "# 🧠 AI Mastery: Episode 3 – Functions in Action"
   ]
  },
  {
   "cell_type": "markdown",
   "id": "64a0e038",
   "metadata": {},
   "source": [
    "This notebook explores the concept of functions and their role in AI. We cover:\n",
    "- Basic functions\n",
    "- Domain and codomain\n",
    "- Relation vs function\n",
    "- Inverse functions\n",
    "- Composite functions\n",
    "- Graphs of functions (optional)\n",
    "- Sigmoid and inverse sigmoid\n",
    "- A finance use case"
   ]
  },
  {
   "cell_type": "markdown",
   "id": "9db99c7d",
   "metadata": {},
   "source": [
    "## ✅ Basic Function and Inverse"
   ]
  },
  {
   "cell_type": "code",
   "execution_count": 1,
   "id": "dbdbafec",
   "metadata": {},
   "outputs": [
    {
     "name": "stdout",
     "output_type": "stream",
     "text": [
      "f(5) = 13\n",
      "f_inverse(f(5)) = 5.0\n"
     ]
    }
   ],
   "source": [
    "def f(x):\n",
    "    return 2 * x + 3\n",
    "\n",
    "def f_inverse(y):\n",
    "    return (y - 3) / 2\n",
    "\n",
    "print(\"f(5) =\", f(5))\n",
    "print(\"f_inverse(f(5)) =\", f_inverse(f(5)))"
   ]
  },
  {
   "cell_type": "markdown",
   "id": "92654c27",
   "metadata": {},
   "source": [
    "## 🎯 Domain and Codomain"
   ]
  },
  {
   "cell_type": "code",
   "execution_count": 2,
   "id": "35c7a9e9",
   "metadata": {},
   "outputs": [
    {
     "name": "stdout",
     "output_type": "stream",
     "text": [
      "Function: f(x) = x + 2\n",
      "Domain: [1, 2, 3, 4]\n",
      "Codomain: [2, 3, 4, 5, 6]\n",
      "Range: [3, 4, 5, 6]\n"
     ]
    }
   ],
   "source": [
    "A = [1, 2, 3, 4]\n",
    "B = [2, 3, 4, 5, 6]\n",
    "\n",
    "f_map = {x: x + 2 for x in A}\n",
    "range_of_f = [f_map[x] for x in A]\n",
    "\n",
    "print(\"Function: f(x) = x + 2\")\n",
    "print(\"Domain:\", A)\n",
    "print(\"Codomain:\", B)\n",
    "print(\"Range:\", range_of_f)"
   ]
  },
  {
   "cell_type": "markdown",
   "id": "fcb23a9f",
   "metadata": {},
   "source": [
    "## 🔁 Relation vs Function"
   ]
  },
  {
   "cell_type": "code",
   "execution_count": 3,
   "id": "539bc65f",
   "metadata": {},
   "outputs": [
    {
     "name": "stdout",
     "output_type": "stream",
     "text": [
      "Is 'relation' a function? False\n",
      "Is 'function' a function? True\n"
     ]
    }
   ],
   "source": [
    "relation = [(1, 2), (2, 3), (2, 4)]  # 2 maps to both 3 and 4 – not a function\n",
    "function = [(1, 2), (2, 3), (3, 4)]  # valid function\n",
    "\n",
    "print(\"Is 'relation' a function?\", len(set(x for x, _ in relation)) == len(relation))\n",
    "print(\"Is 'function' a function?\", len(set(x for x, _ in function)) == len(function))"
   ]
  },
  {
   "cell_type": "markdown",
   "id": "e0e427d6",
   "metadata": {},
   "source": [
    "## 🧮 Composite Functions"
   ]
  },
  {
   "cell_type": "code",
   "execution_count": 4,
   "id": "2b5857fc",
   "metadata": {},
   "outputs": [
    {
     "name": "stdout",
     "output_type": "stream",
     "text": [
      "f(g(2)) = 5\n",
      "g(f(2)) = 9\n"
     ]
    }
   ],
   "source": [
    "def g(x):\n",
    "    return x ** 2\n",
    "\n",
    "def f(x):\n",
    "    return x + 1\n",
    "\n",
    "def fog(x):\n",
    "    return f(g(x))\n",
    "\n",
    "def gof(x):\n",
    "    return g(f(x))\n",
    "\n",
    "print(\"f(g(2)) =\", fog(2))\n",
    "print(\"g(f(2)) =\", gof(2))"
   ]
  },
  {
   "cell_type": "markdown",
   "id": "d24eb57e",
   "metadata": {},
   "source": [
    "## 📈 Sigmoid and Inverse Sigmoid"
   ]
  },
  {
   "cell_type": "code",
   "execution_count": 5,
   "id": "9bed77df",
   "metadata": {},
   "outputs": [
    {
     "name": "stdout",
     "output_type": "stream",
     "text": [
      "sigmoid(2): 0.8807970779778823\n",
      "logit(sigmoid(2)): 1.999999999999999\n"
     ]
    }
   ],
   "source": [
    "import math\n",
    "\n",
    "def sigmoid(x):\n",
    "    return 1 / (1 + math.exp(-x))\n",
    "\n",
    "def logit(y):\n",
    "    if 0 < y < 1:\n",
    "        return math.log(y / (1 - y))\n",
    "    else:\n",
    "        return 'undefined'\n",
    "\n",
    "print(\"sigmoid(2):\", sigmoid(2))\n",
    "print(\"logit(sigmoid(2)):\", logit(sigmoid(2)))"
   ]
  },
  {
   "cell_type": "markdown",
   "id": "baa52144",
   "metadata": {},
   "source": [
    "## 💼 Finance Use Case: Risk Score to Probability"
   ]
  },
  {
   "cell_type": "code",
   "execution_count": 6,
   "id": "9510a511",
   "metadata": {},
   "outputs": [
    {
     "name": "stdout",
     "output_type": "stream",
     "text": [
      "Raw Score (Logit): -0.34999999999999964\n",
      "Probability of Default: 0.4134\n"
     ]
    }
   ],
   "source": [
    "features = {\n",
    "    \"Credit Score\": 620,\n",
    "    \"Annual Income (in $1000s)\": 55,\n",
    "    \"Loan Amount (in $1000s)\": 25,\n",
    "    \"Has Prior Defaults (1=yes, 0=no)\": 1\n",
    "}\n",
    "\n",
    "weights = {\n",
    "    \"Credit Score\": -0.01,\n",
    "    \"Annual Income (in $1000s)\": -0.03,\n",
    "    \"Loan Amount (in $1000s)\": 0.04,\n",
    "    \"Has Prior Defaults (1=yes, 0=no)\": 1.5\n",
    "}\n",
    "\n",
    "bias = 5\n",
    "raw_score = sum(features[f] * weights[f] for f in features) + bias\n",
    "prob = sigmoid(raw_score)\n",
    "\n",
    "print(\"Raw Score (Logit):\", raw_score)\n",
    "print(\"Probability of Default:\", round(prob, 4))"
   ]
  }
 ],
 "metadata": {
  "kernelspec": {
   "display_name": "Python [conda env:base] *",
   "language": "python",
   "name": "conda-base-py"
  },
  "language_info": {
   "codemirror_mode": {
    "name": "ipython",
    "version": 3
   },
   "file_extension": ".py",
   "mimetype": "text/x-python",
   "name": "python",
   "nbconvert_exporter": "python",
   "pygments_lexer": "ipython3",
   "version": "3.12.7"
  }
 },
 "nbformat": 4,
 "nbformat_minor": 5
}
